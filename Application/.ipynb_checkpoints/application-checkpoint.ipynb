{
 "cells": [
  {
   "cell_type": "code",
   "execution_count": 1,
   "id": "395227e3",
   "metadata": {
    "scrolled": false
   },
   "outputs": [
    {
     "data": {
      "text/html": [
       "<style>.widget-container { background-color: #ADD8E6; }</style>"
      ],
      "text/plain": [
       "<IPython.core.display.HTML object>"
      ]
     },
     "metadata": {},
     "output_type": "display_data"
    },
    {
     "data": {
      "application/vnd.jupyter.widget-view+json": {
       "model_id": "68324885010f4c78b536d290e8616d8c",
       "version_major": 2,
       "version_minor": 0
      },
      "text/plain": [
       "VBox(children=(HBox(children=(VBox(children=(HBox(children=(FileUpload(value={}, accept='.csv', description='U…"
      ]
     },
     "metadata": {},
     "output_type": "display_data"
    },
    {
     "name": "stdout",
     "output_type": "stream",
     "text": [
      "model im getting in plotting class is  Shrinking Core\n",
      "model im getting in plotting class is  Stakebake\n"
     ]
    }
   ],
   "source": [
    "import warnings\n",
    "from widgets import ButtWidg\n",
    "from plotting import Plots\n",
    "from master import FunctionPlotter, ShrinkingCore\n",
    "warnings.filterwarnings('ignore')\n",
    "SM = ShrinkingCore()\n",
    "PL=Plots(SM)\n",
    "bw=ButtWidg(SM, PL)\n",
    "\n",
    "        \n",
    "# Create an instance of the class\n",
    "function_plotter = FunctionPlotter(bw, PL)\n"
   ]
  },
  {
   "cell_type": "code",
   "execution_count": null,
   "id": "5a71a874",
   "metadata": {},
   "outputs": [],
   "source": []
  }
 ],
 "metadata": {
  "kernelspec": {
   "display_name": "Python 3 (ipykernel)",
   "language": "python",
   "name": "python3"
  },
  "language_info": {
   "codemirror_mode": {
    "name": "ipython",
    "version": 3
   },
   "file_extension": ".py",
   "mimetype": "text/x-python",
   "name": "python",
   "nbconvert_exporter": "python",
   "pygments_lexer": "ipython3",
   "version": "3.9.13"
  }
 },
 "nbformat": 4,
 "nbformat_minor": 5
}
